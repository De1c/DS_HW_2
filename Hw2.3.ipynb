{
 "cells": [
  {
   "cell_type": "code",
   "execution_count": 1,
   "id": "3d92b5c0-9bbf-4528-b253-31e45b13cbb6",
   "metadata": {},
   "outputs": [],
   "source": [
    "import pandas as pd\n",
    "import numpy as np\n",
    "import matplotlib.pyplot as plt\n",
    "import seaborn as sns"
   ]
  },
  {
   "cell_type": "code",
   "execution_count": 2,
   "id": "f2f2f724-8d6d-48fe-87e2-de6b685b5c5e",
   "metadata": {},
   "outputs": [],
   "source": [
    "books = pd.read_csv('bestsellers with categories.csv')"
   ]
  },
  {
   "cell_type": "code",
   "execution_count": 3,
   "id": "e86b6ef3-2205-4d75-9ed0-33e5439a6db7",
   "metadata": {},
   "outputs": [
    {
     "data": {
      "text/html": [
       "<div>\n",
       "<style scoped>\n",
       "    .dataframe tbody tr th:only-of-type {\n",
       "        vertical-align: middle;\n",
       "    }\n",
       "\n",
       "    .dataframe tbody tr th {\n",
       "        vertical-align: top;\n",
       "    }\n",
       "\n",
       "    .dataframe thead th {\n",
       "        text-align: right;\n",
       "    }\n",
       "</style>\n",
       "<table border=\"1\" class=\"dataframe\">\n",
       "  <thead>\n",
       "    <tr style=\"text-align: right;\">\n",
       "      <th></th>\n",
       "      <th>Name</th>\n",
       "      <th>Author</th>\n",
       "      <th>User Rating</th>\n",
       "      <th>Reviews</th>\n",
       "      <th>Price</th>\n",
       "      <th>Year</th>\n",
       "      <th>Genre</th>\n",
       "    </tr>\n",
       "  </thead>\n",
       "  <tbody>\n",
       "    <tr>\n",
       "      <th>0</th>\n",
       "      <td>10-Day Green Smoothie Cleanse</td>\n",
       "      <td>JJ Smith</td>\n",
       "      <td>4.7</td>\n",
       "      <td>17350</td>\n",
       "      <td>8</td>\n",
       "      <td>2016</td>\n",
       "      <td>Non Fiction</td>\n",
       "    </tr>\n",
       "    <tr>\n",
       "      <th>1</th>\n",
       "      <td>11/22/63: A Novel</td>\n",
       "      <td>Stephen King</td>\n",
       "      <td>4.6</td>\n",
       "      <td>2052</td>\n",
       "      <td>22</td>\n",
       "      <td>2011</td>\n",
       "      <td>Fiction</td>\n",
       "    </tr>\n",
       "    <tr>\n",
       "      <th>2</th>\n",
       "      <td>12 Rules for Life: An Antidote to Chaos</td>\n",
       "      <td>Jordan B. Peterson</td>\n",
       "      <td>4.7</td>\n",
       "      <td>18979</td>\n",
       "      <td>15</td>\n",
       "      <td>2018</td>\n",
       "      <td>Non Fiction</td>\n",
       "    </tr>\n",
       "    <tr>\n",
       "      <th>3</th>\n",
       "      <td>1984 (Signet Classics)</td>\n",
       "      <td>George Orwell</td>\n",
       "      <td>4.7</td>\n",
       "      <td>21424</td>\n",
       "      <td>6</td>\n",
       "      <td>2017</td>\n",
       "      <td>Fiction</td>\n",
       "    </tr>\n",
       "    <tr>\n",
       "      <th>4</th>\n",
       "      <td>5,000 Awesome Facts (About Everything!) (Natio...</td>\n",
       "      <td>National Geographic Kids</td>\n",
       "      <td>4.8</td>\n",
       "      <td>7665</td>\n",
       "      <td>12</td>\n",
       "      <td>2019</td>\n",
       "      <td>Non Fiction</td>\n",
       "    </tr>\n",
       "  </tbody>\n",
       "</table>\n",
       "</div>"
      ],
      "text/plain": [
       "                                                Name  \\\n",
       "0                      10-Day Green Smoothie Cleanse   \n",
       "1                                  11/22/63: A Novel   \n",
       "2            12 Rules for Life: An Antidote to Chaos   \n",
       "3                             1984 (Signet Classics)   \n",
       "4  5,000 Awesome Facts (About Everything!) (Natio...   \n",
       "\n",
       "                     Author  User Rating  Reviews  Price  Year        Genre  \n",
       "0                  JJ Smith          4.7    17350      8  2016  Non Fiction  \n",
       "1              Stephen King          4.6     2052     22  2011      Fiction  \n",
       "2        Jordan B. Peterson          4.7    18979     15  2018  Non Fiction  \n",
       "3             George Orwell          4.7    21424      6  2017      Fiction  \n",
       "4  National Geographic Kids          4.8     7665     12  2019  Non Fiction  "
      ]
     },
     "execution_count": 3,
     "metadata": {},
     "output_type": "execute_result"
    }
   ],
   "source": [
    "books.head()"
   ]
  },
  {
   "cell_type": "code",
   "execution_count": 4,
   "id": "2aa68406-9b3a-4fbf-9866-aaad36d4a8e7",
   "metadata": {},
   "outputs": [
    {
     "data": {
      "text/plain": [
       "(550, 7)"
      ]
     },
     "execution_count": 4,
     "metadata": {},
     "output_type": "execute_result"
    }
   ],
   "source": [
    "books.shape"
   ]
  },
  {
   "cell_type": "markdown",
   "id": "2f36d8b0-e43f-4570-ad0e-0997c7016c8a",
   "metadata": {},
   "source": [
    "### How many books does the dataset store data about? \n",
    "### Answer - 550 Books"
   ]
  },
  {
   "cell_type": "code",
   "execution_count": 5,
   "id": "d16b91fd-2057-44fe-bafc-c6df0539df5c",
   "metadata": {},
   "outputs": [],
   "source": [
    "books.columns = ['name', 'author', 'user_rating', 'reviews', 'price', 'year', 'genre']"
   ]
  },
  {
   "cell_type": "code",
   "execution_count": 6,
   "id": "12a11638-8224-4dc6-9f03-b94df3536e8b",
   "metadata": {},
   "outputs": [
    {
     "data": {
      "text/plain": [
       "name           0\n",
       "author         0\n",
       "user_rating    0\n",
       "reviews        0\n",
       "price          0\n",
       "year           0\n",
       "genre          0\n",
       "dtype: int64"
      ]
     },
     "execution_count": 6,
     "metadata": {},
     "output_type": "execute_result"
    }
   ],
   "source": [
    "books.isna().sum() # No blank spaces"
   ]
  },
  {
   "cell_type": "code",
   "execution_count": 7,
   "id": "58e0639a-268e-4d9b-88f3-36f912dba9ca",
   "metadata": {},
   "outputs": [
    {
     "data": {
      "text/plain": [
       "array(['Non Fiction', 'Fiction'], dtype=object)"
      ]
     },
     "execution_count": 7,
     "metadata": {},
     "output_type": "execute_result"
    }
   ],
   "source": [
    "books[\"genre\"].unique() # Only 2 genres - Fiction and Non Fiction"
   ]
  },
  {
   "cell_type": "code",
   "execution_count": 8,
   "id": "906f9cf4-8c8a-4cf6-8138-3e2e2c733227",
   "metadata": {},
   "outputs": [
    {
     "data": {
      "image/png": "[encoded data removed]",
      "text/plain": [
       "<Figure size 640x480 with 1 Axes>"
      ]
     },
     "metadata": {},
     "output_type": "display_data"
    }
   ],
   "source": [
    "books[\"price\"].plot(kind='hist',color=['g'])\n",
    "plt.xlabel('Price', fontsize='medium', color='black')\n",
    "plt.show()"
   ]
  },
  {
   "cell_type": "code",
   "execution_count": 9,
   "id": "da04d6a8-dfaf-406b-9d49-9be43202633d",
   "metadata": {},
   "outputs": [
    {
     "data": {
      "text/plain": [
       "count    550.000000\n",
       "mean      13.100000\n",
       "std       10.842262\n",
       "min        0.000000\n",
       "25%        7.000000\n",
       "50%       11.000000\n",
       "75%       16.000000\n",
       "max      105.000000\n",
       "Name: price, dtype: float64"
      ]
     },
     "execution_count": 9,
     "metadata": {},
     "output_type": "execute_result"
    }
   ],
   "source": [
    "books[\"price\"].describe() # Max value = 150, min value = 0, mean = 13.1, median = 11"
   ]
  },
  {
   "cell_type": "code",
   "execution_count": 10,
   "id": "2f1543f0-5907-422c-a7ea-b900922c15fd",
   "metadata": {},
   "outputs": [
    {
     "data": {
      "text/plain": [
       "4.9"
      ]
     },
     "execution_count": 10,
     "metadata": {},
     "output_type": "execute_result"
    }
   ],
   "source": [
    "books[\"user_rating\"].max() # What is the highest rating in the dataset? max = 4.9\n"
   ]
  },
  {
   "cell_type": "code",
   "execution_count": 11,
   "id": "186cc944-6d88-4151-8952-9f87a61b3061",
   "metadata": {},
   "outputs": [
    {
     "data": {
      "text/plain": [
       "52"
      ]
     },
     "execution_count": 11,
     "metadata": {},
     "output_type": "execute_result"
    }
   ],
   "source": [
    "(books[\"user_rating\"] == books[\"user_rating\"].max()).sum() # How many books have this rating? Answer: 52 books with highest rating"
   ]
  },
  {
   "cell_type": "code",
   "execution_count": 12,
   "id": "20d49a5c-e26e-4874-afc6-6b9dade4a053",
   "metadata": {},
   "outputs": [
    {
     "data": {
      "text/html": [
       "<div>\n",
       "<style scoped>\n",
       "    .dataframe tbody tr th:only-of-type {\n",
       "        vertical-align: middle;\n",
       "    }\n",
       "\n",
       "    .dataframe tbody tr th {\n",
       "        vertical-align: top;\n",
       "    }\n",
       "\n",
       "    .dataframe thead th {\n",
       "        text-align: right;\n",
       "    }\n",
       "</style>\n",
       "<table border=\"1\" class=\"dataframe\">\n",
       "  <thead>\n",
       "    <tr style=\"text-align: right;\">\n",
       "      <th></th>\n",
       "      <th>name</th>\n",
       "      <th>author</th>\n",
       "      <th>user_rating</th>\n",
       "      <th>reviews</th>\n",
       "      <th>price</th>\n",
       "      <th>year</th>\n",
       "      <th>genre</th>\n",
       "    </tr>\n",
       "  </thead>\n",
       "  <tbody>\n",
       "    <tr>\n",
       "      <th>277</th>\n",
       "      <td>Publication Manual of the American Psychologic...</td>\n",
       "      <td>American Psychological Association</td>\n",
       "      <td>4.5</td>\n",
       "      <td>8580</td>\n",
       "      <td>46</td>\n",
       "      <td>2015</td>\n",
       "      <td>Non Fiction</td>\n",
       "    </tr>\n",
       "  </tbody>\n",
       "</table>\n",
       "</div>"
      ],
      "text/plain": [
       "                                                  name  \\\n",
       "277  Publication Manual of the American Psychologic...   \n",
       "\n",
       "                                 author  user_rating  reviews  price  year  \\\n",
       "277  American Psychological Association          4.5     8580     46  2015   \n",
       "\n",
       "           genre  \n",
       "277  Non Fiction  "
      ]
     },
     "execution_count": 12,
     "metadata": {},
     "output_type": "execute_result"
    }
   ],
   "source": [
    "books[books['year'] == 2015].query(\"price == price.max()\") # Which book has the most reviews? Answer: The Girl on the Train"
   ]
  },
  {
   "cell_type": "code",
   "execution_count": 13,
   "id": "5cf59374-ab0b-4630-81d7-257d26a2b790",
   "metadata": {},
   "outputs": [
    {
     "data": {
      "text/plain": [
       "(20, 7)"
      ]
     },
     "execution_count": 13,
     "metadata": {},
     "output_type": "execute_result"
    }
   ],
   "source": [
    "books[(books['year'] == 2010) & (books['genre'] == \"Fiction\")].shape # How many Fiction books were in the Top 50 in 2010 (use &)? Answer: 20"
   ]
  },
  {
   "cell_type": "code",
   "execution_count": 14,
   "id": "1c2ec316-0dc8-47b2-bb73-11b51b5d5063",
   "metadata": {},
   "outputs": [
    {
     "data": {
      "text/plain": [
       "(1, 7)"
      ]
     },
     "execution_count": 14,
     "metadata": {},
     "output_type": "execute_result"
    }
   ],
   "source": [
    "books[(books['year'] == 2010|2011) & (books['user_rating'] == 4.9)].shape # How many books with a rating of 4.9 were ranked in 2010 and 2011 (use | or the isin function)? Answer: 1"
   ]
  },
  {
   "cell_type": "code",
   "execution_count": 15,
   "id": "54fd4f30-a2f8-4377-b23c-2eeb333a229b",
   "metadata": {},
   "outputs": [],
   "source": [
    "books_by_price = books[(books['year'] == 2010) & (books['price'] < 8)].sort_values(\"price\")"
   ]
  },
  {
   "cell_type": "code",
   "execution_count": 16,
   "id": "e0e6b5b3-ad7b-4656-8d47-35a8c6b73076",
   "metadata": {},
   "outputs": [
    {
     "data": {
      "text/plain": [
       "name           The Last Olympian (Percy Jackson and the Olymp...\n",
       "author                                              Rick Riordan\n",
       "user_rating                                                  4.8\n",
       "reviews                                                     4628\n",
       "price                                                          7\n",
       "year                                                        2010\n",
       "genre                                                    Fiction\n",
       "Name: 419, dtype: object"
      ]
     },
     "execution_count": 16,
     "metadata": {},
     "output_type": "execute_result"
    }
   ],
   "source": [
    "books_by_price.iloc[-1] # Which book is last in the sorted list? Answer: The Last Olympian"
   ]
  },
  {
   "cell_type": "code",
   "execution_count": 17,
   "id": "b4d9752a-dfb3-4e21-9992-65d5b8b14749",
   "metadata": {},
   "outputs": [],
   "source": [
    "genre_books = books.groupby(\"genre\")"
   ]
  },
  {
   "cell_type": "code",
   "execution_count": 18,
   "id": "2132666f-4794-4478-b996-a37c64d36478",
   "metadata": {},
   "outputs": [
    {
     "data": {
      "text/html": [
       "<div>\n",
       "<style scoped>\n",
       "    .dataframe tbody tr th:only-of-type {\n",
       "        vertical-align: middle;\n",
       "    }\n",
       "\n",
       "    .dataframe tbody tr th {\n",
       "        vertical-align: top;\n",
       "    }\n",
       "\n",
       "    .dataframe thead tr th {\n",
       "        text-align: left;\n",
       "    }\n",
       "\n",
       "    .dataframe thead tr:last-of-type th {\n",
       "        text-align: right;\n",
       "    }\n",
       "</style>\n",
       "<table border=\"1\" class=\"dataframe\">\n",
       "  <thead>\n",
       "    <tr>\n",
       "      <th></th>\n",
       "      <th colspan=\"2\" halign=\"left\">price</th>\n",
       "    </tr>\n",
       "    <tr>\n",
       "      <th></th>\n",
       "      <th>min</th>\n",
       "      <th>max</th>\n",
       "    </tr>\n",
       "    <tr>\n",
       "      <th>genre</th>\n",
       "      <th></th>\n",
       "      <th></th>\n",
       "    </tr>\n",
       "  </thead>\n",
       "  <tbody>\n",
       "    <tr>\n",
       "      <th>Fiction</th>\n",
       "      <td>0</td>\n",
       "      <td>82</td>\n",
       "    </tr>\n",
       "    <tr>\n",
       "      <th>Non Fiction</th>\n",
       "      <td>0</td>\n",
       "      <td>105</td>\n",
       "    </tr>\n",
       "  </tbody>\n",
       "</table>\n",
       "</div>"
      ],
      "text/plain": [
       "            price     \n",
       "              min  max\n",
       "genre                 \n",
       "Fiction         0   82\n",
       "Non Fiction     0  105"
      ]
     },
     "execution_count": 18,
     "metadata": {},
     "output_type": "execute_result"
    }
   ],
   "source": [
    "genre_books.agg({\"price\" :[\"min\", \"max\"]})"
   ]
  },
  {
   "cell_type": "code",
   "execution_count": 19,
   "id": "73b35fc4-d5cd-4314-b91f-38ee1f511a27",
   "metadata": {},
   "outputs": [],
   "source": [
    "author_books = books.groupby(\"author\")"
   ]
  },
  {
   "cell_type": "code",
   "execution_count": 20,
   "id": "10336f2a-2c36-4102-93fc-15728c29956e",
   "metadata": {},
   "outputs": [],
   "source": [
    "count_books_by_author = author_books.agg({\"author\" : \"count\"})"
   ]
  },
  {
   "cell_type": "code",
   "execution_count": 21,
   "id": "94996893-526c-425e-9fa8-715216954631",
   "metadata": {},
   "outputs": [
    {
     "data": {
      "text/plain": [
       "(248, 1)"
      ]
     },
     "execution_count": 21,
     "metadata": {},
     "output_type": "execute_result"
    }
   ],
   "source": [
    "count_books_by_author.shape"
   ]
  },
  {
   "cell_type": "code",
   "execution_count": 22,
   "id": "83e33f02-91ef-4b41-8707-cb79539085e3",
   "metadata": {},
   "outputs": [],
   "source": [
    "count_books_by_author.columns = [\"count\"]"
   ]
  },
  {
   "cell_type": "code",
   "execution_count": 23,
   "id": "c9d5bc58-8b5e-4b72-99eb-9817ce75c6af",
   "metadata": {},
   "outputs": [
    {
     "data": {
      "text/html": [
       "<div>\n",
       "<style scoped>\n",
       "    .dataframe tbody tr th:only-of-type {\n",
       "        vertical-align: middle;\n",
       "    }\n",
       "\n",
       "    .dataframe tbody tr th {\n",
       "        vertical-align: top;\n",
       "    }\n",
       "\n",
       "    .dataframe thead th {\n",
       "        text-align: right;\n",
       "    }\n",
       "</style>\n",
       "<table border=\"1\" class=\"dataframe\">\n",
       "  <thead>\n",
       "    <tr style=\"text-align: right;\">\n",
       "      <th></th>\n",
       "      <th>count</th>\n",
       "    </tr>\n",
       "    <tr>\n",
       "      <th>author</th>\n",
       "      <th></th>\n",
       "    </tr>\n",
       "  </thead>\n",
       "  <tbody>\n",
       "    <tr>\n",
       "      <th>Jeff Kinney</th>\n",
       "      <td>12</td>\n",
       "    </tr>\n",
       "  </tbody>\n",
       "</table>\n",
       "</div>"
      ],
      "text/plain": [
       "             count\n",
       "author            \n",
       "Jeff Kinney     12"
      ]
     },
     "execution_count": 23,
     "metadata": {},
     "output_type": "execute_result"
    }
   ],
   "source": [
    "count_books_by_author[count_books_by_author[\"count\"] == count_books_by_author[\"count\"].max()]"
   ]
  },
  {
   "cell_type": "code",
   "execution_count": 24,
   "id": "c4613cc7-4106-453d-a3f6-ce7b5da46354",
   "metadata": {},
   "outputs": [],
   "source": [
    "reviews_by_author = author_books.agg({\"user_rating\" : \"mean\"})"
   ]
  },
  {
   "cell_type": "code",
   "execution_count": 25,
   "id": "79e43047-76de-4caa-b66d-28a965efdc84",
   "metadata": {},
   "outputs": [
    {
     "data": {
      "text/plain": [
       "<bound method NDFrame.head of                             user_rating\n",
       "author                                 \n",
       "Abraham Verghese               4.600000\n",
       "Adam Gasiewski                 4.400000\n",
       "Adam Mansbach                  4.800000\n",
       "Adir Levy                      4.800000\n",
       "Admiral William H. McRaven     4.700000\n",
       "...                                 ...\n",
       "Walter Isaacson                4.566667\n",
       "William Davis                  4.400000\n",
       "William P. Young               4.600000\n",
       "Wizards RPG Team               4.800000\n",
       "Zhi Gang Sha                   4.600000\n",
       "\n",
       "[248 rows x 1 columns]>"
      ]
     },
     "execution_count": 25,
     "metadata": {},
     "output_type": "execute_result"
    }
   ],
   "source": [
    "reviews_by_author.head"
   ]
  },
  {
   "cell_type": "code",
   "execution_count": 26,
   "id": "384642d3-2548-46e0-8dd4-9adcc0cc1270",
   "metadata": {},
   "outputs": [
    {
     "data": {
      "text/html": [
       "<div>\n",
       "<style scoped>\n",
       "    .dataframe tbody tr th:only-of-type {\n",
       "        vertical-align: middle;\n",
       "    }\n",
       "\n",
       "    .dataframe tbody tr th {\n",
       "        vertical-align: top;\n",
       "    }\n",
       "\n",
       "    .dataframe thead th {\n",
       "        text-align: right;\n",
       "    }\n",
       "</style>\n",
       "<table border=\"1\" class=\"dataframe\">\n",
       "  <thead>\n",
       "    <tr style=\"text-align: right;\">\n",
       "      <th></th>\n",
       "      <th>user_rating</th>\n",
       "    </tr>\n",
       "    <tr>\n",
       "      <th>author</th>\n",
       "      <th></th>\n",
       "    </tr>\n",
       "  </thead>\n",
       "  <tbody>\n",
       "    <tr>\n",
       "      <th>Donna Tartt</th>\n",
       "      <td>3.9</td>\n",
       "    </tr>\n",
       "  </tbody>\n",
       "</table>\n",
       "</div>"
      ],
      "text/plain": [
       "             user_rating\n",
       "author                  \n",
       "Donna Tartt          3.9"
      ]
     },
     "execution_count": 26,
     "metadata": {},
     "output_type": "execute_result"
    }
   ],
   "source": [
    "reviews_by_author[reviews_by_author[\"user_rating\"] == reviews_by_author[\"user_rating\"].min()]"
   ]
  },
  {
   "cell_type": "code",
   "execution_count": 27,
   "id": "a88cfdc6-506b-464f-af76-f88373cfaea9",
   "metadata": {},
   "outputs": [],
   "source": [
    "df = pd.concat([count_books_by_author, reviews_by_author], axis=1)"
   ]
  },
  {
   "cell_type": "code",
   "execution_count": 28,
   "id": "20b5b43d-a0cd-4fd7-b706-1ccb88f726db",
   "metadata": {},
   "outputs": [
    {
     "data": {
      "text/html": [
       "<div>\n",
       "<style scoped>\n",
       "    .dataframe tbody tr th:only-of-type {\n",
       "        vertical-align: middle;\n",
       "    }\n",
       "\n",
       "    .dataframe tbody tr th {\n",
       "        vertical-align: top;\n",
       "    }\n",
       "\n",
       "    .dataframe thead th {\n",
       "        text-align: right;\n",
       "    }\n",
       "</style>\n",
       "<table border=\"1\" class=\"dataframe\">\n",
       "  <thead>\n",
       "    <tr style=\"text-align: right;\">\n",
       "      <th></th>\n",
       "      <th>count</th>\n",
       "      <th>user_rating</th>\n",
       "    </tr>\n",
       "    <tr>\n",
       "      <th>author</th>\n",
       "      <th></th>\n",
       "      <th></th>\n",
       "    </tr>\n",
       "  </thead>\n",
       "  <tbody>\n",
       "    <tr>\n",
       "      <th>Abraham Verghese</th>\n",
       "      <td>2</td>\n",
       "      <td>4.6</td>\n",
       "    </tr>\n",
       "    <tr>\n",
       "      <th>Adam Gasiewski</th>\n",
       "      <td>1</td>\n",
       "      <td>4.4</td>\n",
       "    </tr>\n",
       "    <tr>\n",
       "      <th>Adam Mansbach</th>\n",
       "      <td>1</td>\n",
       "      <td>4.8</td>\n",
       "    </tr>\n",
       "    <tr>\n",
       "      <th>Adir Levy</th>\n",
       "      <td>1</td>\n",
       "      <td>4.8</td>\n",
       "    </tr>\n",
       "    <tr>\n",
       "      <th>Admiral William H. McRaven</th>\n",
       "      <td>1</td>\n",
       "      <td>4.7</td>\n",
       "    </tr>\n",
       "  </tbody>\n",
       "</table>\n",
       "</div>"
      ],
      "text/plain": [
       "                            count  user_rating\n",
       "author                                        \n",
       "Abraham Verghese                2          4.6\n",
       "Adam Gasiewski                  1          4.4\n",
       "Adam Mansbach                   1          4.8\n",
       "Adir Levy                       1          4.8\n",
       "Admiral William H. McRaven      1          4.7"
      ]
     },
     "execution_count": 28,
     "metadata": {},
     "output_type": "execute_result"
    }
   ],
   "source": [
    "df.head()"
   ]
  },
  {
   "cell_type": "code",
   "execution_count": 29,
   "id": "2ecb9063-c9f4-4b73-9ece-5c5238d68a3d",
   "metadata": {},
   "outputs": [
    {
     "data": {
      "text/html": [
       "<div>\n",
       "<style scoped>\n",
       "    .dataframe tbody tr th:only-of-type {\n",
       "        vertical-align: middle;\n",
       "    }\n",
       "\n",
       "    .dataframe tbody tr th {\n",
       "        vertical-align: top;\n",
       "    }\n",
       "\n",
       "    .dataframe thead th {\n",
       "        text-align: right;\n",
       "    }\n",
       "</style>\n",
       "<table border=\"1\" class=\"dataframe\">\n",
       "  <thead>\n",
       "    <tr style=\"text-align: right;\">\n",
       "      <th></th>\n",
       "      <th>count</th>\n",
       "      <th>user_rating</th>\n",
       "    </tr>\n",
       "    <tr>\n",
       "      <th>author</th>\n",
       "      <th></th>\n",
       "      <th></th>\n",
       "    </tr>\n",
       "  </thead>\n",
       "  <tbody>\n",
       "    <tr>\n",
       "      <th>Muriel Barbery</th>\n",
       "      <td>1</td>\n",
       "      <td>4.0</td>\n",
       "    </tr>\n",
       "    <tr>\n",
       "      <th>Chris Cleave</th>\n",
       "      <td>1</td>\n",
       "      <td>4.1</td>\n",
       "    </tr>\n",
       "    <tr>\n",
       "      <th>Ian K. Smith M.D.</th>\n",
       "      <td>1</td>\n",
       "      <td>4.1</td>\n",
       "    </tr>\n",
       "    <tr>\n",
       "      <th>Pierre Dukan</th>\n",
       "      <td>1</td>\n",
       "      <td>4.1</td>\n",
       "    </tr>\n",
       "    <tr>\n",
       "      <th>Elizabeth Strout</th>\n",
       "      <td>1</td>\n",
       "      <td>4.2</td>\n",
       "    </tr>\n",
       "  </tbody>\n",
       "</table>\n",
       "</div>"
      ],
      "text/plain": [
       "                   count  user_rating\n",
       "author                               \n",
       "Muriel Barbery         1          4.0\n",
       "Chris Cleave           1          4.1\n",
       "Ian K. Smith M.D.      1          4.1\n",
       "Pierre Dukan           1          4.1\n",
       "Elizabeth Strout       1          4.2"
      ]
     },
     "execution_count": 29,
     "metadata": {},
     "output_type": "execute_result"
    }
   ],
   "source": [
    "df.sort_values([\"count\", \"user_rating\"]).head()"
   ]
  },
  {
   "cell_type": "code",
   "execution_count": 30,
   "id": "dfa900a7-d40e-4499-9f16-2f6343441400",
   "metadata": {},
   "outputs": [
    {
     "data": {
      "text/html": [
       "<div>\n",
       "<style scoped>\n",
       "    .dataframe tbody tr th:only-of-type {\n",
       "        vertical-align: middle;\n",
       "    }\n",
       "\n",
       "    .dataframe tbody tr th {\n",
       "        vertical-align: top;\n",
       "    }\n",
       "\n",
       "    .dataframe thead th {\n",
       "        text-align: right;\n",
       "    }\n",
       "</style>\n",
       "<table border=\"1\" class=\"dataframe\">\n",
       "  <thead>\n",
       "    <tr style=\"text-align: right;\">\n",
       "      <th></th>\n",
       "      <th>name</th>\n",
       "      <th>author</th>\n",
       "      <th>user_rating</th>\n",
       "      <th>reviews</th>\n",
       "      <th>price</th>\n",
       "      <th>year</th>\n",
       "      <th>genre</th>\n",
       "    </tr>\n",
       "  </thead>\n",
       "  <tbody>\n",
       "    <tr>\n",
       "      <th>0</th>\n",
       "      <td>10-Day Green Smoothie Cleanse</td>\n",
       "      <td>JJ Smith</td>\n",
       "      <td>4.7</td>\n",
       "      <td>17350</td>\n",
       "      <td>8</td>\n",
       "      <td>2016</td>\n",
       "      <td>Non Fiction</td>\n",
       "    </tr>\n",
       "    <tr>\n",
       "      <th>1</th>\n",
       "      <td>11/22/63: A Novel</td>\n",
       "      <td>Stephen King</td>\n",
       "      <td>4.6</td>\n",
       "      <td>2052</td>\n",
       "      <td>22</td>\n",
       "      <td>2011</td>\n",
       "      <td>Fiction</td>\n",
       "    </tr>\n",
       "    <tr>\n",
       "      <th>2</th>\n",
       "      <td>12 Rules for Life: An Antidote to Chaos</td>\n",
       "      <td>Jordan B. Peterson</td>\n",
       "      <td>4.7</td>\n",
       "      <td>18979</td>\n",
       "      <td>15</td>\n",
       "      <td>2018</td>\n",
       "      <td>Non Fiction</td>\n",
       "    </tr>\n",
       "    <tr>\n",
       "      <th>3</th>\n",
       "      <td>1984 (Signet Classics)</td>\n",
       "      <td>George Orwell</td>\n",
       "      <td>4.7</td>\n",
       "      <td>21424</td>\n",
       "      <td>6</td>\n",
       "      <td>2017</td>\n",
       "      <td>Fiction</td>\n",
       "    </tr>\n",
       "    <tr>\n",
       "      <th>4</th>\n",
       "      <td>5,000 Awesome Facts (About Everything!) (Natio...</td>\n",
       "      <td>National Geographic Kids</td>\n",
       "      <td>4.8</td>\n",
       "      <td>7665</td>\n",
       "      <td>12</td>\n",
       "      <td>2019</td>\n",
       "      <td>Non Fiction</td>\n",
       "    </tr>\n",
       "  </tbody>\n",
       "</table>\n",
       "</div>"
      ],
      "text/plain": [
       "                                                name  \\\n",
       "0                      10-Day Green Smoothie Cleanse   \n",
       "1                                  11/22/63: A Novel   \n",
       "2            12 Rules for Life: An Antidote to Chaos   \n",
       "3                             1984 (Signet Classics)   \n",
       "4  5,000 Awesome Facts (About Everything!) (Natio...   \n",
       "\n",
       "                     author  user_rating  reviews  price  year        genre  \n",
       "0                  JJ Smith          4.7    17350      8  2016  Non Fiction  \n",
       "1              Stephen King          4.6     2052     22  2011      Fiction  \n",
       "2        Jordan B. Peterson          4.7    18979     15  2018  Non Fiction  \n",
       "3             George Orwell          4.7    21424      6  2017      Fiction  \n",
       "4  National Geographic Kids          4.8     7665     12  2019  Non Fiction  "
      ]
     },
     "execution_count": 30,
     "metadata": {},
     "output_type": "execute_result"
    }
   ],
   "source": [
    "books.head()"
   ]
  },
  {
   "cell_type": "code",
   "execution_count": 31,
   "id": "4bd03ab2-8471-4821-8f30-046bf7f28c4f",
   "metadata": {},
   "outputs": [
    {
     "data": {
      "text/plain": [
       "<Axes: xlabel='user_rating', ylabel='price'>"
      ]
     },
     "execution_count": 31,
     "metadata": {},
     "output_type": "execute_result"
    },
    {
     "data": {
      "image/png": "[encoded data removed]",
      "text/plain": [
       "<Figure size 640x480 with 1 Axes>"
      ]
     },
     "metadata": {},
     "output_type": "display_data"
    }
   ],
   "source": [
    "sns.lineplot(x='user_rating', y='price', data=books, hue='genre')"
   ]
  },
  {
   "cell_type": "code",
   "execution_count": 48,
   "id": "116d75f6-b369-4192-af50-89775b3f6b78",
   "metadata": {},
   "outputs": [
    {
     "data": {
      "image/png": "[encoded data removed]",
      "text/plain": [
       "<Figure size 640x480 with 1 Axes>"
      ]
     },
     "metadata": {},
     "output_type": "display_data"
    }
   ],
   "source": [
    "data = books['genre'].value_counts()\n",
    "\n",
    "plt.pie(\n",
    "    data,\n",
    "    labels=data.index,\n",
    "    explode=[0.02,0],\n",
    "    autopct=\"%.2f%%\",\n",
    "    pctdistance=1.15,\n",
    "    labeldistance=1.25,\n",
    "    colors=['b','yellow']\n",
    ")\n",
    "plt.title(\"Distribution per genre\")\n",
    "\n",
    "plt.show()"
   ]
  },
  {
   "cell_type": "code",
   "execution_count": null,
   "id": "cdbc3c2e-674c-4d10-9bd8-b7cd891c12b9",
   "metadata": {},
   "outputs": [],
   "source": []
  }
 ],
 "metadata": {
  "kernelspec": {
   "display_name": "Python 3 (ipykernel)",
   "language": "python",
   "name": "python3"
  },
  "language_info": {
   "codemirror_mode": {
    "name": "ipython",
    "version": 3
   },
   "file_extension": ".py",
   "mimetype": "text/x-python",
   "name": "python",
   "nbconvert_exporter": "python",
   "pygments_lexer": "ipython3",
   "version": "3.10.11"
  }
 },
 "nbformat": 4,
 "nbformat_minor": 5
}
