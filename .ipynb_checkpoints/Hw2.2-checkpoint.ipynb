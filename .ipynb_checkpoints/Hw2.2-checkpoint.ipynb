{
 "cells": [
  {
   "cell_type": "code",
   "execution_count": 87,
   "id": "2a4b5185-03d0-4617-bf34-c3739d8acbbe",
   "metadata": {},
   "outputs": [],
   "source": [
    "import pandas as pd\n",
    "import numpy as np\n",
    "import matplotlib.pyplot as plt\n",
    "import seaborn as sns"
   ]
  },
  {
   "cell_type": "code",
   "execution_count": 2,
   "id": "9c69482f-227e-49e6-a226-2f7fe724463d",
   "metadata": {},
   "outputs": [],
   "source": [
    "tbl = pd.read_csv(\"2017_jun_final.csv\")"
   ]
  },
  {
   "cell_type": "code",
   "execution_count": 3,
   "id": "e77aedc1-ea59-4037-b21e-9a24205395e3",
   "metadata": {},
   "outputs": [
    {
     "data": {
      "text/html": [
       "<div>\n",
       "<style scoped>\n",
       "    .dataframe tbody tr th:only-of-type {\n",
       "        vertical-align: middle;\n",
       "    }\n",
       "\n",
       "    .dataframe tbody tr th {\n",
       "        vertical-align: top;\n",
       "    }\n",
       "\n",
       "    .dataframe thead th {\n",
       "        text-align: right;\n",
       "    }\n",
       "</style>\n",
       "<table border=\"1\" class=\"dataframe\">\n",
       "  <thead>\n",
       "    <tr style=\"text-align: right;\">\n",
       "      <th></th>\n",
       "      <th>N</th>\n",
       "      <th>Должность</th>\n",
       "      <th>Язык.программирования</th>\n",
       "      <th>Специализация</th>\n",
       "      <th>Общий.опыт.работы</th>\n",
       "      <th>Опыт.работы.на.текущем.месте</th>\n",
       "      <th>Зарплата.в.месяц</th>\n",
       "      <th>Изменение.зарплаты.за.12.месяцев</th>\n",
       "      <th>Город</th>\n",
       "      <th>Размер.компании</th>\n",
       "      <th>...</th>\n",
       "      <th>Еще.студент</th>\n",
       "      <th>Уровень.английского</th>\n",
       "      <th>Предметная.область</th>\n",
       "      <th>Дата.заполнения</th>\n",
       "      <th>User.Agent</th>\n",
       "      <th>exp</th>\n",
       "      <th>current_job_exp</th>\n",
       "      <th>salary</th>\n",
       "      <th>Валюта</th>\n",
       "      <th>cls</th>\n",
       "    </tr>\n",
       "  </thead>\n",
       "  <tbody>\n",
       "    <tr>\n",
       "      <th>0</th>\n",
       "      <td>1</td>\n",
       "      <td>Junior QA engineer</td>\n",
       "      <td>NaN</td>\n",
       "      <td>Manual QA</td>\n",
       "      <td>0.5</td>\n",
       "      <td>0.5</td>\n",
       "      <td>400</td>\n",
       "      <td>0</td>\n",
       "      <td>Харьков</td>\n",
       "      <td>до 10 человек</td>\n",
       "      <td>...</td>\n",
       "      <td>True</td>\n",
       "      <td>ниже среднего</td>\n",
       "      <td>iOS,eCommerce</td>\n",
       "      <td>12/06/2017 12:38:08</td>\n",
       "      <td>Mozilla/5.0 (Windows NT 10.0; Win64; x64) Appl...</td>\n",
       "      <td>0.5</td>\n",
       "      <td>0.5</td>\n",
       "      <td>400</td>\n",
       "      <td>NaN</td>\n",
       "      <td>QA</td>\n",
       "    </tr>\n",
       "    <tr>\n",
       "      <th>1</th>\n",
       "      <td>2</td>\n",
       "      <td>Junior QA engineer</td>\n",
       "      <td>NaN</td>\n",
       "      <td>Manual QA</td>\n",
       "      <td>меньше 3 месяцев</td>\n",
       "      <td>меньше 3 месяцев</td>\n",
       "      <td>430</td>\n",
       "      <td>130</td>\n",
       "      <td>Харьков</td>\n",
       "      <td>свыше 1000 человек</td>\n",
       "      <td>...</td>\n",
       "      <td>True</td>\n",
       "      <td>выше среднего</td>\n",
       "      <td>Веб-разработка</td>\n",
       "      <td>12/06/2017 12:42:51</td>\n",
       "      <td>Mozilla/5.0 (iPad; CPU OS 10_2_1 like Mac OS X...</td>\n",
       "      <td>0.0</td>\n",
       "      <td>0.0</td>\n",
       "      <td>430</td>\n",
       "      <td>NaN</td>\n",
       "      <td>QA</td>\n",
       "    </tr>\n",
       "    <tr>\n",
       "      <th>2</th>\n",
       "      <td>3</td>\n",
       "      <td>Software Engineer</td>\n",
       "      <td>C#/.NET</td>\n",
       "      <td>NaN</td>\n",
       "      <td>4</td>\n",
       "      <td>1</td>\n",
       "      <td>2500</td>\n",
       "      <td>800</td>\n",
       "      <td>Киев</td>\n",
       "      <td>до 1000 человек</td>\n",
       "      <td>...</td>\n",
       "      <td>False</td>\n",
       "      <td>средний</td>\n",
       "      <td>Веб-разработка,Корпоративные системы</td>\n",
       "      <td>12/06/2017 13:02:47</td>\n",
       "      <td>Mozilla/5.0 (Windows NT 10.0; Win64; x64) Appl...</td>\n",
       "      <td>4.0</td>\n",
       "      <td>1.0</td>\n",
       "      <td>2500</td>\n",
       "      <td>NaN</td>\n",
       "      <td>DEV</td>\n",
       "    </tr>\n",
       "    <tr>\n",
       "      <th>3</th>\n",
       "      <td>4</td>\n",
       "      <td>Software Engineer</td>\n",
       "      <td>JavaScript</td>\n",
       "      <td>NaN</td>\n",
       "      <td>5</td>\n",
       "      <td>4</td>\n",
       "      <td>2000</td>\n",
       "      <td>400</td>\n",
       "      <td>Одесса</td>\n",
       "      <td>до 200 человек</td>\n",
       "      <td>...</td>\n",
       "      <td>False</td>\n",
       "      <td>ниже среднего</td>\n",
       "      <td>Desktop Applications,Веб-разработка</td>\n",
       "      <td>12/06/2017 13:03:01</td>\n",
       "      <td>Mozilla/5.0 (Windows NT 6.1; Win64; x64) Apple...</td>\n",
       "      <td>5.0</td>\n",
       "      <td>4.0</td>\n",
       "      <td>2000</td>\n",
       "      <td>NaN</td>\n",
       "      <td>DEV</td>\n",
       "    </tr>\n",
       "    <tr>\n",
       "      <th>4</th>\n",
       "      <td>5</td>\n",
       "      <td>Senior Software Engineer</td>\n",
       "      <td>JavaScript</td>\n",
       "      <td>NaN</td>\n",
       "      <td>10 и более лет</td>\n",
       "      <td>0.5</td>\n",
       "      <td>4500</td>\n",
       "      <td>500</td>\n",
       "      <td>Другой</td>\n",
       "      <td>до 10 человек</td>\n",
       "      <td>...</td>\n",
       "      <td>False</td>\n",
       "      <td>средний</td>\n",
       "      <td>Desktop Applications,Веб-разработка</td>\n",
       "      <td>12/06/2017 13:03:47</td>\n",
       "      <td>Mozilla/5.0 (iPhone; CPU iPhone OS 10_3_2 like...</td>\n",
       "      <td>10.0</td>\n",
       "      <td>0.5</td>\n",
       "      <td>4500</td>\n",
       "      <td>NaN</td>\n",
       "      <td>DEV</td>\n",
       "    </tr>\n",
       "  </tbody>\n",
       "</table>\n",
       "<p>5 rows × 25 columns</p>\n",
       "</div>"
      ],
      "text/plain": [
       "   N                 Должность Язык.программирования Специализация  \\\n",
       "0  1        Junior QA engineer                   NaN     Manual QA   \n",
       "1  2        Junior QA engineer                   NaN     Manual QA   \n",
       "2  3         Software Engineer               C#/.NET           NaN   \n",
       "3  4         Software Engineer            JavaScript           NaN   \n",
       "4  5  Senior Software Engineer            JavaScript           NaN   \n",
       "\n",
       "  Общий.опыт.работы Опыт.работы.на.текущем.месте  Зарплата.в.месяц  \\\n",
       "0               0.5                          0.5               400   \n",
       "1  меньше 3 месяцев             меньше 3 месяцев               430   \n",
       "2                 4                            1              2500   \n",
       "3                 5                            4              2000   \n",
       "4    10 и более лет                          0.5              4500   \n",
       "\n",
       "   Изменение.зарплаты.за.12.месяцев    Город     Размер.компании  ...  \\\n",
       "0                                 0  Харьков       до 10 человек  ...   \n",
       "1                               130  Харьков  свыше 1000 человек  ...   \n",
       "2                               800     Киев     до 1000 человек  ...   \n",
       "3                               400   Одесса      до 200 человек  ...   \n",
       "4                               500   Другой       до 10 человек  ...   \n",
       "\n",
       "  Еще.студент Уровень.английского                    Предметная.область  \\\n",
       "0        True       ниже среднего                         iOS,eCommerce   \n",
       "1        True       выше среднего                        Веб-разработка   \n",
       "2       False             средний  Веб-разработка,Корпоративные системы   \n",
       "3       False       ниже среднего   Desktop Applications,Веб-разработка   \n",
       "4       False             средний   Desktop Applications,Веб-разработка   \n",
       "\n",
       "       Дата.заполнения                                         User.Agent  \\\n",
       "0  12/06/2017 12:38:08  Mozilla/5.0 (Windows NT 10.0; Win64; x64) Appl...   \n",
       "1  12/06/2017 12:42:51  Mozilla/5.0 (iPad; CPU OS 10_2_1 like Mac OS X...   \n",
       "2  12/06/2017 13:02:47  Mozilla/5.0 (Windows NT 10.0; Win64; x64) Appl...   \n",
       "3  12/06/2017 13:03:01  Mozilla/5.0 (Windows NT 6.1; Win64; x64) Apple...   \n",
       "4  12/06/2017 13:03:47  Mozilla/5.0 (iPhone; CPU iPhone OS 10_3_2 like...   \n",
       "\n",
       "    exp current_job_exp salary Валюта  cls  \n",
       "0   0.5             0.5    400    NaN   QA  \n",
       "1   0.0             0.0    430    NaN   QA  \n",
       "2   4.0             1.0   2500    NaN  DEV  \n",
       "3   5.0             4.0   2000    NaN  DEV  \n",
       "4  10.0             0.5   4500    NaN  DEV  \n",
       "\n",
       "[5 rows x 25 columns]"
      ]
     },
     "execution_count": 3,
     "metadata": {},
     "output_type": "execute_result"
    }
   ],
   "source": [
    "tbl.head()"
   ]
  },
  {
   "cell_type": "code",
   "execution_count": 4,
   "id": "b5646103-d1d8-4ba1-8877-90b6dc7444b7",
   "metadata": {},
   "outputs": [
    {
     "data": {
      "text/plain": [
       "(8704, 25)"
      ]
     },
     "execution_count": 4,
     "metadata": {},
     "output_type": "execute_result"
    }
   ],
   "source": [
    "tbl.shape"
   ]
  },
  {
   "cell_type": "code",
   "execution_count": 5,
   "id": "2e750b55-0909-466c-9632-981e038c89d6",
   "metadata": {},
   "outputs": [
    {
     "data": {
      "text/plain": [
       "N                                     int64\n",
       "Должность                            object\n",
       "Язык.программирования                object\n",
       "Специализация                        object\n",
       "Общий.опыт.работы                    object\n",
       "Опыт.работы.на.текущем.месте         object\n",
       "Зарплата.в.месяц                      int64\n",
       "Изменение.зарплаты.за.12.месяцев      int64\n",
       "Город                                object\n",
       "Размер.компании                      object\n",
       "Тип.компании                         object\n",
       "Пол                                  object\n",
       "Возраст                               int64\n",
       "Образование                          object\n",
       "Университет                          object\n",
       "Еще.студент                            bool\n",
       "Уровень.английского                  object\n",
       "Предметная.область                   object\n",
       "Дата.заполнения                      object\n",
       "User.Agent                           object\n",
       "exp                                 float64\n",
       "current_job_exp                     float64\n",
       "salary                                int64\n",
       "Валюта                               object\n",
       "cls                                  object\n",
       "dtype: object"
      ]
     },
     "execution_count": 5,
     "metadata": {},
     "output_type": "execute_result"
    }
   ],
   "source": [
    "tbl.dtypes"
   ]
  },
  {
   "cell_type": "code",
   "execution_count": 6,
   "id": "6fe7c48c-94e0-451f-a000-6ffc8637f0b7",
   "metadata": {},
   "outputs": [
    {
     "data": {
      "text/plain": [
       "N                                      0\n",
       "Должность                              0\n",
       "Язык.программирования               3850\n",
       "Специализация                       7219\n",
       "Общий.опыт.работы                      0\n",
       "Опыт.работы.на.текущем.месте           0\n",
       "Зарплата.в.месяц                       0\n",
       "Изменение.зарплаты.за.12.месяцев       0\n",
       "Город                                  0\n",
       "Размер.компании                        0\n",
       "Тип.компании                           0\n",
       "Пол                                    0\n",
       "Возраст                                0\n",
       "Образование                            0\n",
       "Университет                          358\n",
       "Еще.студент                            0\n",
       "Уровень.английского                    0\n",
       "Предметная.область                   223\n",
       "Дата.заполнения                        0\n",
       "User.Agent                             0\n",
       "exp                                    0\n",
       "current_job_exp                        0\n",
       "salary                                 0\n",
       "Валюта                              8694\n",
       "cls                                 1574\n",
       "dtype: int64"
      ]
     },
     "execution_count": 6,
     "metadata": {},
     "output_type": "execute_result"
    }
   ],
   "source": [
    "tbl.isnull().sum()"
   ]
  },
  {
   "cell_type": "code",
   "execution_count": 7,
   "id": "a098750b-5b63-456d-81e8-ab2528074dd7",
   "metadata": {},
   "outputs": [],
   "source": [
    "tbl = tbl.drop([\"Специализация\", \"Университет\", \"Предметная.область\", \"Валюта\", \"cls\"], axis=1)"
   ]
  },
  {
   "cell_type": "code",
   "execution_count": 8,
   "id": "14bb995e-99bc-46c3-b179-933770a399dd",
   "metadata": {},
   "outputs": [
    {
     "data": {
      "text/plain": [
       "N                                      0\n",
       "Должность                              0\n",
       "Язык.программирования               3850\n",
       "Общий.опыт.работы                      0\n",
       "Опыт.работы.на.текущем.месте           0\n",
       "Зарплата.в.месяц                       0\n",
       "Изменение.зарплаты.за.12.месяцев       0\n",
       "Город                                  0\n",
       "Размер.компании                        0\n",
       "Тип.компании                           0\n",
       "Пол                                    0\n",
       "Возраст                                0\n",
       "Образование                            0\n",
       "Еще.студент                            0\n",
       "Уровень.английского                    0\n",
       "Дата.заполнения                        0\n",
       "User.Agent                             0\n",
       "exp                                    0\n",
       "current_job_exp                        0\n",
       "salary                                 0\n",
       "dtype: int64"
      ]
     },
     "execution_count": 8,
     "metadata": {},
     "output_type": "execute_result"
    }
   ],
   "source": [
    "tbl.isnull().sum()"
   ]
  },
  {
   "cell_type": "code",
   "execution_count": 9,
   "id": "4ed0e454-94bd-4b5c-9b96-9ee30fd73246",
   "metadata": {},
   "outputs": [],
   "source": [
    "tbl.dropna(inplace=True)"
   ]
  },
  {
   "cell_type": "code",
   "execution_count": 10,
   "id": "6c3aca0e-fbec-4d15-b2e1-20ccc66a7aeb",
   "metadata": {},
   "outputs": [
    {
     "data": {
      "text/plain": [
       "(4854, 20)"
      ]
     },
     "execution_count": 10,
     "metadata": {},
     "output_type": "execute_result"
    }
   ],
   "source": [
    "tbl.shape"
   ]
  },
  {
   "cell_type": "code",
   "execution_count": 11,
   "id": "b7d4d850-eb37-4470-bc8a-222bc8784c74",
   "metadata": {},
   "outputs": [],
   "source": [
    "python_data = tbl[tbl[\"Язык.программирования\"] == 'Python']"
   ]
  },
  {
   "cell_type": "code",
   "execution_count": 12,
   "id": "444ac0df-a97a-4fe1-8467-6d77975c0d75",
   "metadata": {},
   "outputs": [
    {
     "data": {
      "text/plain": [
       "(207, 20)"
      ]
     },
     "execution_count": 12,
     "metadata": {},
     "output_type": "execute_result"
    }
   ],
   "source": [
    "python_data.shape"
   ]
  },
  {
   "cell_type": "code",
   "execution_count": 13,
   "id": "c021107a-9fe9-40a1-92f1-f406b3c3dbc7",
   "metadata": {},
   "outputs": [],
   "source": [
    "grouped_data = python_data.groupby([\"Должность\"])"
   ]
  },
  {
   "cell_type": "code",
   "execution_count": 14,
   "id": "fa513c26-e3d4-4ee2-ab14-b7c1df36a00b",
   "metadata": {},
   "outputs": [
    {
     "data": {
      "text/html": [
       "<div>\n",
       "<style scoped>\n",
       "    .dataframe tbody tr th:only-of-type {\n",
       "        vertical-align: middle;\n",
       "    }\n",
       "\n",
       "    .dataframe tbody tr th {\n",
       "        vertical-align: top;\n",
       "    }\n",
       "\n",
       "    .dataframe thead tr th {\n",
       "        text-align: left;\n",
       "    }\n",
       "\n",
       "    .dataframe thead tr:last-of-type th {\n",
       "        text-align: right;\n",
       "    }\n",
       "</style>\n",
       "<table border=\"1\" class=\"dataframe\">\n",
       "  <thead>\n",
       "    <tr>\n",
       "      <th></th>\n",
       "      <th colspan=\"2\" halign=\"left\">Зарплата.в.месяц</th>\n",
       "    </tr>\n",
       "    <tr>\n",
       "      <th></th>\n",
       "      <th>max</th>\n",
       "      <th>min</th>\n",
       "    </tr>\n",
       "    <tr>\n",
       "      <th>Должность</th>\n",
       "      <th></th>\n",
       "      <th></th>\n",
       "    </tr>\n",
       "  </thead>\n",
       "  <tbody>\n",
       "    <tr>\n",
       "      <th>Junior Software Engineer</th>\n",
       "      <td>1250</td>\n",
       "      <td>100</td>\n",
       "    </tr>\n",
       "    <tr>\n",
       "      <th>Senior Software Engineer</th>\n",
       "      <td>9200</td>\n",
       "      <td>1300</td>\n",
       "    </tr>\n",
       "    <tr>\n",
       "      <th>Software Engineer</th>\n",
       "      <td>5400</td>\n",
       "      <td>500</td>\n",
       "    </tr>\n",
       "    <tr>\n",
       "      <th>System Architect</th>\n",
       "      <td>5000</td>\n",
       "      <td>3000</td>\n",
       "    </tr>\n",
       "    <tr>\n",
       "      <th>Technical Lead</th>\n",
       "      <td>6200</td>\n",
       "      <td>1425</td>\n",
       "    </tr>\n",
       "  </tbody>\n",
       "</table>\n",
       "</div>"
      ],
      "text/plain": [
       "                         Зарплата.в.месяц      \n",
       "                                      max   min\n",
       "Должность                                      \n",
       "Junior Software Engineer             1250   100\n",
       "Senior Software Engineer             9200  1300\n",
       "Software Engineer                    5400   500\n",
       "System Architect                     5000  3000\n",
       "Technical Lead                       6200  1425"
      ]
     },
     "execution_count": 14,
     "metadata": {},
     "output_type": "execute_result"
    }
   ],
   "source": [
    "pd.DataFrame(grouped_data.agg({\"Зарплата.в.месяц\": [\"max\", \"min\"]}))"
   ]
  },
  {
   "cell_type": "code",
   "execution_count": 15,
   "id": "b4e67b5e-b08f-4754-a241-9900b1d9fb9a",
   "metadata": {},
   "outputs": [],
   "source": [
    "def fill_avg_salary(data):\n",
    "    avg_row = []\n",
    "    mean = grouped_data[\"Зарплата.в.месяц\"].mean()\n",
    "    avg_row.append(mean[data[\"Должность\"]])\n",
    "    return pd.Series(avg_row)"
   ]
  },
  {
   "cell_type": "code",
   "execution_count": 16,
   "id": "c6aaf3df-cc82-4781-9263-e2466c33b767",
   "metadata": {},
   "outputs": [],
   "source": [
    "avg = python_data.apply(fill_avg_salary, axis=1)"
   ]
  },
  {
   "cell_type": "code",
   "execution_count": 17,
   "id": "6d0006fc-4be3-4af3-9e40-37d4d9d36728",
   "metadata": {},
   "outputs": [
    {
     "name": "stderr",
     "output_type": "stream",
     "text": [
      "C:\\Users\\Deic\\AppData\\Local\\Temp\\ipykernel_5252\\4282463263.py:1: SettingWithCopyWarning: \n",
      "A value is trying to be set on a copy of a slice from a DataFrame.\n",
      "Try using .loc[row_indexer,col_indexer] = value instead\n",
      "\n",
      "See the caveats in the documentation: https://pandas.pydata.org/pandas-docs/stable/user_guide/indexing.html#returning-a-view-versus-a-copy\n",
      "  python_data[\"avg\"] = avg\n"
     ]
    }
   ],
   "source": [
    "python_data[\"avg\"] = avg"
   ]
  },
  {
   "cell_type": "code",
   "execution_count": 18,
   "id": "58c70a06-b2b5-4938-a657-935350754fcd",
   "metadata": {},
   "outputs": [
    {
     "data": {
      "text/plain": [
       "count     207.000000\n",
       "mean     1753.937198\n",
       "std       996.562606\n",
       "min       560.841270\n",
       "25%       560.841270\n",
       "50%      1799.070000\n",
       "75%      1799.070000\n",
       "max      4000.000000\n",
       "Name: avg, dtype: float64"
      ]
     },
     "execution_count": 18,
     "metadata": {},
     "output_type": "execute_result"
    }
   ],
   "source": [
    "python_data[\"avg\"].describe()"
   ]
  },
  {
   "cell_type": "code",
   "execution_count": 19,
   "id": "ce346059-82eb-4752-81f4-eca4955ba4ca",
   "metadata": {},
   "outputs": [],
   "source": [
    "python_data.to_csv(\"python_data.csv\", index=False)"
   ]
  },
  {
   "cell_type": "code",
   "execution_count": 21,
   "id": "47a8a9d9-5d58-4be3-944d-f99b81158a8b",
   "metadata": {},
   "outputs": [
    {
     "data": {
      "text/html": [
       "<div>\n",
       "<style scoped>\n",
       "    .dataframe tbody tr th:only-of-type {\n",
       "        vertical-align: middle;\n",
       "    }\n",
       "\n",
       "    .dataframe tbody tr th {\n",
       "        vertical-align: top;\n",
       "    }\n",
       "\n",
       "    .dataframe thead th {\n",
       "        text-align: right;\n",
       "    }\n",
       "</style>\n",
       "<table border=\"1\" class=\"dataframe\">\n",
       "  <thead>\n",
       "    <tr style=\"text-align: right;\">\n",
       "      <th></th>\n",
       "      <th>N</th>\n",
       "      <th>Должность</th>\n",
       "      <th>Язык.программирования</th>\n",
       "      <th>Общий.опыт.работы</th>\n",
       "      <th>Опыт.работы.на.текущем.месте</th>\n",
       "      <th>Зарплата.в.месяц</th>\n",
       "      <th>Изменение.зарплаты.за.12.месяцев</th>\n",
       "      <th>Город</th>\n",
       "      <th>Размер.компании</th>\n",
       "      <th>Тип.компании</th>\n",
       "      <th>...</th>\n",
       "      <th>Возраст</th>\n",
       "      <th>Образование</th>\n",
       "      <th>Еще.студент</th>\n",
       "      <th>Уровень.английского</th>\n",
       "      <th>Дата.заполнения</th>\n",
       "      <th>User.Agent</th>\n",
       "      <th>exp</th>\n",
       "      <th>current_job_exp</th>\n",
       "      <th>salary</th>\n",
       "      <th>avg</th>\n",
       "    </tr>\n",
       "  </thead>\n",
       "  <tbody>\n",
       "    <tr>\n",
       "      <th>12</th>\n",
       "      <td>13</td>\n",
       "      <td>Software Engineer</td>\n",
       "      <td>Python</td>\n",
       "      <td>1</td>\n",
       "      <td>меньше 3 месяцев</td>\n",
       "      <td>800</td>\n",
       "      <td>200</td>\n",
       "      <td>Киев</td>\n",
       "      <td>до 50 человек</td>\n",
       "      <td>Аутсорсинговая</td>\n",
       "      <td>...</td>\n",
       "      <td>26</td>\n",
       "      <td>Высшее</td>\n",
       "      <td>False</td>\n",
       "      <td>ниже среднего</td>\n",
       "      <td>12/06/2017 13:05:54</td>\n",
       "      <td>Mozilla/5.0 (Windows NT 6.1; Win64; x64) Apple...</td>\n",
       "      <td>1.0</td>\n",
       "      <td>0.0</td>\n",
       "      <td>800</td>\n",
       "      <td>1799.07000</td>\n",
       "    </tr>\n",
       "    <tr>\n",
       "      <th>68</th>\n",
       "      <td>69</td>\n",
       "      <td>Software Engineer</td>\n",
       "      <td>Python</td>\n",
       "      <td>1.5</td>\n",
       "      <td>0.5</td>\n",
       "      <td>900</td>\n",
       "      <td>900</td>\n",
       "      <td>Киев</td>\n",
       "      <td>до 10 человек</td>\n",
       "      <td>Стартап</td>\n",
       "      <td>...</td>\n",
       "      <td>21</td>\n",
       "      <td>Незаконченное высшее</td>\n",
       "      <td>True</td>\n",
       "      <td>выше среднего</td>\n",
       "      <td>12/06/2017 13:11:17</td>\n",
       "      <td>Mozilla/5.0 (Windows NT 10.0; Win64; x64) Appl...</td>\n",
       "      <td>1.5</td>\n",
       "      <td>0.5</td>\n",
       "      <td>900</td>\n",
       "      <td>1799.07000</td>\n",
       "    </tr>\n",
       "    <tr>\n",
       "      <th>87</th>\n",
       "      <td>88</td>\n",
       "      <td>Junior Software Engineer</td>\n",
       "      <td>Python</td>\n",
       "      <td>0.5</td>\n",
       "      <td>0.5</td>\n",
       "      <td>600</td>\n",
       "      <td>0</td>\n",
       "      <td>Киев</td>\n",
       "      <td>до 10 человек</td>\n",
       "      <td>Аутсорсинговая</td>\n",
       "      <td>...</td>\n",
       "      <td>19</td>\n",
       "      <td>Незаконченное высшее</td>\n",
       "      <td>True</td>\n",
       "      <td>выше среднего</td>\n",
       "      <td>12/06/2017 13:12:25</td>\n",
       "      <td>Mozilla/5.0 (X11; Linux x86_64) AppleWebKit/53...</td>\n",
       "      <td>0.5</td>\n",
       "      <td>0.5</td>\n",
       "      <td>600</td>\n",
       "      <td>560.84127</td>\n",
       "    </tr>\n",
       "    <tr>\n",
       "      <th>114</th>\n",
       "      <td>115</td>\n",
       "      <td>Junior Software Engineer</td>\n",
       "      <td>Python</td>\n",
       "      <td>1.5</td>\n",
       "      <td>0.5</td>\n",
       "      <td>685</td>\n",
       "      <td>250</td>\n",
       "      <td>Киев</td>\n",
       "      <td>до 1000 человек</td>\n",
       "      <td>Аутсорсинговая</td>\n",
       "      <td>...</td>\n",
       "      <td>21</td>\n",
       "      <td>Незаконченное высшее</td>\n",
       "      <td>False</td>\n",
       "      <td>средний</td>\n",
       "      <td>12/06/2017 13:14:52</td>\n",
       "      <td>Mozilla/5.0 (X11; Linux x86_64) AppleWebKit/53...</td>\n",
       "      <td>1.5</td>\n",
       "      <td>0.5</td>\n",
       "      <td>685</td>\n",
       "      <td>560.84127</td>\n",
       "    </tr>\n",
       "    <tr>\n",
       "      <th>143</th>\n",
       "      <td>144</td>\n",
       "      <td>Junior Software Engineer</td>\n",
       "      <td>Python</td>\n",
       "      <td>1</td>\n",
       "      <td>1</td>\n",
       "      <td>750</td>\n",
       "      <td>250</td>\n",
       "      <td>Киев</td>\n",
       "      <td>до 10 человек</td>\n",
       "      <td>Аутсорсинговая</td>\n",
       "      <td>...</td>\n",
       "      <td>21</td>\n",
       "      <td>Незаконченное высшее</td>\n",
       "      <td>True</td>\n",
       "      <td>выше среднего</td>\n",
       "      <td>12/06/2017 13:19:10</td>\n",
       "      <td>Mozilla/5.0 (X11; Linux x86_64) AppleWebKit/53...</td>\n",
       "      <td>1.0</td>\n",
       "      <td>1.0</td>\n",
       "      <td>750</td>\n",
       "      <td>560.84127</td>\n",
       "    </tr>\n",
       "  </tbody>\n",
       "</table>\n",
       "<p>5 rows × 21 columns</p>\n",
       "</div>"
      ],
      "text/plain": [
       "       N                 Должность Язык.программирования Общий.опыт.работы  \\\n",
       "12    13         Software Engineer                Python                 1   \n",
       "68    69         Software Engineer                Python               1.5   \n",
       "87    88  Junior Software Engineer                Python               0.5   \n",
       "114  115  Junior Software Engineer                Python               1.5   \n",
       "143  144  Junior Software Engineer                Python                 1   \n",
       "\n",
       "    Опыт.работы.на.текущем.месте  Зарплата.в.месяц  \\\n",
       "12              меньше 3 месяцев               800   \n",
       "68                           0.5               900   \n",
       "87                           0.5               600   \n",
       "114                          0.5               685   \n",
       "143                            1               750   \n",
       "\n",
       "     Изменение.зарплаты.за.12.месяцев Город  Размер.компании    Тип.компании  \\\n",
       "12                                200  Киев    до 50 человек  Аутсорсинговая   \n",
       "68                                900  Киев    до 10 человек         Стартап   \n",
       "87                                  0  Киев    до 10 человек  Аутсорсинговая   \n",
       "114                               250  Киев  до 1000 человек  Аутсорсинговая   \n",
       "143                               250  Киев    до 10 человек  Аутсорсинговая   \n",
       "\n",
       "     ... Возраст           Образование Еще.студент  Уровень.английского  \\\n",
       "12   ...      26                Высшее       False        ниже среднего   \n",
       "68   ...      21  Незаконченное высшее        True        выше среднего   \n",
       "87   ...      19  Незаконченное высшее        True        выше среднего   \n",
       "114  ...      21  Незаконченное высшее       False              средний   \n",
       "143  ...      21  Незаконченное высшее        True        выше среднего   \n",
       "\n",
       "         Дата.заполнения                                         User.Agent  \\\n",
       "12   12/06/2017 13:05:54  Mozilla/5.0 (Windows NT 6.1; Win64; x64) Apple...   \n",
       "68   12/06/2017 13:11:17  Mozilla/5.0 (Windows NT 10.0; Win64; x64) Appl...   \n",
       "87   12/06/2017 13:12:25  Mozilla/5.0 (X11; Linux x86_64) AppleWebKit/53...   \n",
       "114  12/06/2017 13:14:52  Mozilla/5.0 (X11; Linux x86_64) AppleWebKit/53...   \n",
       "143  12/06/2017 13:19:10  Mozilla/5.0 (X11; Linux x86_64) AppleWebKit/53...   \n",
       "\n",
       "     exp  current_job_exp  salary         avg  \n",
       "12   1.0              0.0     800  1799.07000  \n",
       "68   1.5              0.5     900  1799.07000  \n",
       "87   0.5              0.5     600   560.84127  \n",
       "114  1.5              0.5     685   560.84127  \n",
       "143  1.0              1.0     750   560.84127  \n",
       "\n",
       "[5 rows x 21 columns]"
      ]
     },
     "execution_count": 21,
     "metadata": {},
     "output_type": "execute_result"
    }
   ],
   "source": [
    "python_data.head()"
   ]
  },
  {
   "cell_type": "code",
   "execution_count": 39,
   "id": "d40a4e87-0dc8-44e4-bbe6-c7b69b4ab64c",
   "metadata": {},
   "outputs": [
    {
     "data": {
      "image/png": "[encoded data removed]",
      "text/plain": [
       "<Figure size 640x480 with 1 Axes>"
      ]
     },
     "metadata": {},
     "output_type": "display_data"
    }
   ],
   "source": [
    "python_data_s = python_data.sort_values(\"avg\")\n",
    "\n",
    "plt.bar(\n",
    "    python_data_s[\"Должность\"],\n",
    "    python_data_s[\"avg\"]\n",
    ")\n",
    "\n",
    "plt.xlabel(\"Position\", fontsize=\"small\", color=\"midnightblue\")\n",
    "plt.ylabel(\"Avg\", fontsize=\"small\", color=\"midnightblue\")\n",
    "plt.title(\"Average salaries for different positions\", fontsize=15)\n",
    "plt.show()"
   ]
  },
  {
   "cell_type": "code",
   "execution_count": 86,
   "id": "11a8082f-a25f-4c61-8a81-1f849ce1066e",
   "metadata": {},
   "outputs": [
    {
     "data": {
      "image/png": "[encoded data removed]",
      "text/plain": [
       "<Figure size 640x480 with 1 Axes>"
      ]
     },
     "metadata": {},
     "output_type": "display_data"
    }
   ],
   "source": [
    "tbl_education = tbl.groupby([\"Образование\"])\n",
    "tbl_education = tbl_education.agg({\"Образование\": \"count\"})\n",
    "\n",
    "tbl_education.columns = [\"count\"]\n",
    "\n",
    "labels = tbl_education.index\n",
    "data = tbl_education[\"count\"]\n",
    "explode = [0.01, 0.05, 0.05, 0.05, 0.05, 0.05]\n",
    "\n",
    "plt.pie(\n",
    "    data,\n",
    "    labels=labels,\n",
    "    explode=explode,\n",
    "    autopct=\"%.2f%%\",\n",
    "    pctdistance=1.17,\n",
    "    labeldistance=1.32,\n",
    ")\n",
    "plt.title(\"Education\")\n",
    "\n",
    "plt.show()"
   ]
  },
  {
   "cell_type": "code",
   "execution_count": 88,
   "id": "b2623814-e0a2-4de5-b770-96edf9acee8a",
   "metadata": {},
   "outputs": [],
   "source": [
    "sns.set_style(\"whitegrid\")"
   ]
  },
  {
   "cell_type": "code",
   "execution_count": 91,
   "id": "a723dd2f-4869-4852-9586-21f59e7be92f",
   "metadata": {},
   "outputs": [
    {
     "data": {
      "text/plain": [
       "<Axes: xlabel='exp', ylabel='salary'>"
      ]
     },
     "execution_count": 91,
     "metadata": {},
     "output_type": "execute_result"
    },
    {
     "data": {
      "image/png": "[encoded data removed]",
      "text/plain": [
       "<Figure size 640x480 with 1 Axes>"
      ]
     },
     "metadata": {},
     "output_type": "display_data"
    }
   ],
   "source": [
    "sns.scatterplot(x='exp', y='salary', hue='Должность', data=python_data)"
   ]
  },
  {
   "cell_type": "code",
   "execution_count": null,
   "id": "ad72ec67-3475-492f-9179-26cd241cce24",
   "metadata": {},
   "outputs": [],
   "source": []
  }
 ],
 "metadata": {
  "kernelspec": {
   "display_name": "Python 3 (ipykernel)",
   "language": "python",
   "name": "python3"
  },
  "language_info": {
   "codemirror_mode": {
    "name": "ipython",
    "version": 3
   },
   "file_extension": ".py",
   "mimetype": "text/x-python",
   "name": "python",
   "nbconvert_exporter": "python",
   "pygments_lexer": "ipython3",
   "version": "3.10.11"
  }
 },
 "nbformat": 4,
 "nbformat_minor": 5
}
